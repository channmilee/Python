{
  "nbformat": 4,
  "nbformat_minor": 0,
  "metadata": {
    "colab": {
      "provenance": [],
      "authorship_tag": "ABX9TyPyfYLypyoOelAUhKRBSrj0",
      "include_colab_link": true
    },
    "kernelspec": {
      "name": "python3",
      "display_name": "Python 3"
    },
    "language_info": {
      "name": "python"
    }
  },
  "cells": [
    {
      "cell_type": "markdown",
      "metadata": {
        "id": "view-in-github",
        "colab_type": "text"
      },
      "source": [
        "<a href=\"https://colab.research.google.com/github/channmilee/Python/blob/master/001_%EC%8B%9C%EB%A6%AC%EC%A6%88.ipynb\" target=\"_parent\"><img src=\"https://colab.research.google.com/assets/colab-badge.svg\" alt=\"Open In Colab\"/></a>"
      ]
    },
    {
      "cell_type": "markdown",
      "source": [
        "# 1. 시리즈"
      ],
      "metadata": {
        "id": "QTXBikkzFo6s"
      }
    },
    {
      "cell_type": "markdown",
      "source": [
        "### 1-1. 딕셔너리 -> 시리즈 변환"
      ],
      "metadata": {
        "id": "pz8IJ5mqF2ow"
      }
    },
    {
      "cell_type": "markdown",
      "source": [
        "* pd.Series(dict)"
      ],
      "metadata": {
        "id": "nGwVGhJqGOuS"
      }
    },
    {
      "cell_type": "code",
      "execution_count": null,
      "metadata": {
        "id": "xY3XBoBHFgz3"
      },
      "outputs": [],
      "source": [
        "import pandas as pd\n",
        "\n",
        "dict_data = {'a':1,'b':2,'c':3}\n",
        "\n",
        "sr = pd.Series(dict_data)"
      ]
    },
    {
      "cell_type": "code",
      "source": [
        "print('dict_data의 타입: ', type(dict_data))\n",
        "print('\\n')\n",
        "print('sr 타입:',type(sr))\n",
        "print('\\n')\n",
        "print(sr)"
      ],
      "metadata": {
        "colab": {
          "base_uri": "https://localhost:8080/"
        },
        "id": "rIx9xXUSGdA7",
        "outputId": "bb81c78f-599e-402a-d85a-7d82c1b08317"
      },
      "execution_count": null,
      "outputs": [
        {
          "output_type": "stream",
          "name": "stdout",
          "text": [
            "dict_data의 타입:  <class 'dict'>\n",
            "\n",
            "\n",
            "sr 타입: <class 'pandas.core.series.Series'>\n",
            "\n",
            "\n",
            "a    1\n",
            "b    2\n",
            "c    3\n",
            "dtype: int64\n"
          ]
        }
      ]
    },
    {
      "cell_type": "markdown",
      "source": [
        "### 1-2. 인덱스 구조"
      ],
      "metadata": {
        "id": "Cu3T3mf4HIVG"
      }
    },
    {
      "cell_type": "markdown",
      "source": [
        "[인덱스]\n",
        "* 정수형 인덱스\n",
        "* 인덱스 이름/인덱스 라벨"
      ],
      "metadata": {
        "id": "WFnMvLPFJ9Ek"
      }
    },
    {
      "cell_type": "markdown",
      "source": [
        "* 인덱스 배열:Series객체.index\n",
        "* 데이터 값 배열 : Series객체.values"
      ],
      "metadata": {
        "id": "KBU-fPzSKGOS"
      }
    },
    {
      "cell_type": "code",
      "source": [
        "list_data = ['2022-10-25',3.14,'ABC',100,True]\n",
        "sr = pd.Series(list_data)\n",
        "\n",
        "print(sr)"
      ],
      "metadata": {
        "colab": {
          "base_uri": "https://localhost:8080/"
        },
        "id": "kMa379zNJ8UC",
        "outputId": "b7e2a28d-771b-4827-85c8-45938650d3ae"
      },
      "execution_count": null,
      "outputs": [
        {
          "output_type": "stream",
          "name": "stdout",
          "text": [
            "0    2022-10-25\n",
            "1          3.14\n",
            "2           ABC\n",
            "3           100\n",
            "4          True\n",
            "dtype: object\n"
          ]
        }
      ]
    },
    {
      "cell_type": "code",
      "source": [
        "idx = sr.index\n",
        "val = sr.values\n",
        "\n",
        "print(idx)\n",
        "print('\\n')\n",
        "print(val)"
      ],
      "metadata": {
        "colab": {
          "base_uri": "https://localhost:8080/"
        },
        "id": "6NivNF3UJ8MB",
        "outputId": "cdcbe84f-bfcd-4a90-9de2-e7bcf361e1c4"
      },
      "execution_count": null,
      "outputs": [
        {
          "output_type": "stream",
          "name": "stdout",
          "text": [
            "RangeIndex(start=0, stop=5, step=1)\n",
            "\n",
            "\n",
            "['2022-10-25' 3.14 'ABC' 100 True]\n"
          ]
        }
      ]
    },
    {
      "cell_type": "markdown",
      "source": [
        "### 1-3. 원소 선택"
      ],
      "metadata": {
        "id": "QfErwZoPLKW8"
      }
    },
    {
      "cell_type": "markdown",
      "source": [
        "[인덱스 유형에 따른 사용법]\n",
        "* 정수형 위치 인덱스 : [ ] 안에 숫자 입력\n",
        "* 인덱스 이름 : [ ] 안에 따옴표로 이름 입력 "
      ],
      "metadata": {
        "id": "On402wbKLM1y"
      }
    },
    {
      "cell_type": "code",
      "source": [
        "tup_data = ('영인','2010-07-01','여',True)\n",
        "sr = pd.Series(tup_data, index = ['이름','생년월일','성별','학생 여부'])\n",
        "\n",
        "print(sr)"
      ],
      "metadata": {
        "colab": {
          "base_uri": "https://localhost:8080/"
        },
        "id": "hHA0jm8QGh2r",
        "outputId": "7a1b8fa1-ceda-42ae-a64c-0a11840c11e2"
      },
      "execution_count": null,
      "outputs": [
        {
          "output_type": "stream",
          "name": "stdout",
          "text": [
            "이름               영인\n",
            "생년월일     2010-07-01\n",
            "성별                여\n",
            "학생 여부          True\n",
            "dtype: object\n"
          ]
        }
      ]
    },
    {
      "cell_type": "code",
      "source": [
        "print(sr[0])\n",
        "\n",
        "print(sr['이름'])"
      ],
      "metadata": {
        "colab": {
          "base_uri": "https://localhost:8080/"
        },
        "id": "CQmExuJPLyu4",
        "outputId": "5b767732-72a3-4e04-9b18-797cd73d3691"
      },
      "execution_count": null,
      "outputs": [
        {
          "output_type": "stream",
          "name": "stdout",
          "text": [
            "영인\n",
            "영인\n"
          ]
        }
      ]
    },
    {
      "cell_type": "code",
      "source": [
        "print(sr[1:2])\n",
        "print('\\n')\n",
        "print(sr['생년월일':'성별'])"
      ],
      "metadata": {
        "colab": {
          "base_uri": "https://localhost:8080/"
        },
        "id": "inojlMDcL9k7",
        "outputId": "06b93628-fba8-4dfa-c461-332c0c425e2a"
      },
      "execution_count": null,
      "outputs": [
        {
          "output_type": "stream",
          "name": "stdout",
          "text": [
            "생년월일    2010-07-01\n",
            "dtype: object\n",
            "\n",
            "\n",
            "생년월일    2010-07-01\n",
            "성별               여\n",
            "dtype: object\n"
          ]
        }
      ]
    },
    {
      "cell_type": "code",
      "source": [
        "# 여러 개의 인덱스를 리스트 형태로 [ ] 안에 입력\n",
        "print(sr[[1,2]])\n",
        "print('\\n')\n",
        "print(sr[['생년월일','성별']])"
      ],
      "metadata": {
        "colab": {
          "base_uri": "https://localhost:8080/"
        },
        "id": "9h1gX5LkMMH9",
        "outputId": "a19a43f4-485e-4081-e3cb-d7006afac8b1"
      },
      "execution_count": null,
      "outputs": [
        {
          "output_type": "stream",
          "name": "stdout",
          "text": [
            "생년월일    2010-07-01\n",
            "성별               여\n",
            "dtype: object\n",
            "\n",
            "\n",
            "생년월일    2010-07-01\n",
            "성별               여\n",
            "dtype: object\n"
          ]
        }
      ]
    }
  ]
}